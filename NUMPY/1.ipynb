{
 "cells": [
  {
   "cell_type": "code",
   "execution_count": 5,
   "metadata": {},
   "outputs": [],
   "source": [
    "import numpy as np\n",
    "import pandas as pd\n",
    "from sympy import *\n",
    "import math"
   ]
  },
  {
   "cell_type": "code",
   "execution_count": 6,
   "metadata": {},
   "outputs": [
    {
     "data": {
      "text/latex": [
       "$\\displaystyle \\frac{0.25 \\left(x^{2} + 1\\right) \\left(- \\frac{2 x \\left(x^{2} - 1\\right)}{\\left(x^{2} + 1\\right)^{2}} + \\frac{2 x}{x^{2} + 1}\\right)}{x^{2} - 1}$"
      ],
      "text/plain": [
       "0.25*(x**2 + 1)*(-2*x*(x**2 - 1)/(x**2 + 1)**2 + 2*x/(x**2 + 1))/(x**2 - 1)"
      ]
     },
     "execution_count": 6,
     "metadata": {},
     "output_type": "execute_result"
    }
   ],
   "source": [
    "x=Symbol('x')\n",
    "def f(x):\n",
    "    return diff(1/4*ln((x*x-1)/(x*x+1)))\n",
    "f(x)"
   ]
  },
  {
   "cell_type": "code",
   "execution_count": 7,
   "metadata": {},
   "outputs": [
    {
     "data": {
      "text/plain": [
       "0.0375"
      ]
     },
     "execution_count": 7,
     "metadata": {},
     "output_type": "execute_result"
    }
   ],
   "source": [
    "x=3\n",
    "(0.25*(x*x+1)*(-1*(2*x*(x*x-1))/((x*x+1)*(x*x+1))+(2*x)/(x*x+1)))/(x*x-1)"
   ]
  },
  {
   "cell_type": "code",
   "execution_count": 8,
   "metadata": {},
   "outputs": [
    {
     "data": {
      "text/plain": [
       "5.0"
      ]
     },
     "execution_count": 8,
     "metadata": {},
     "output_type": "execute_result"
    }
   ],
   "source": [
    "(pow(pow(5,2),pow(5,3))*pow(50,100))/(pow(100,50)*pow(pow(5,3),pow(5,2)))*pow(25,-137)"
   ]
  },
  {
   "cell_type": "code",
   "execution_count": 9,
   "metadata": {},
   "outputs": [
    {
     "name": "stdout",
     "output_type": "stream",
     "text": [
      "log(15)*log(17)/(log(225)*log(289))\n"
     ]
    }
   ],
   "source": [
    "print(log(20, 225) * log(15, 289) * log(17, 20))"
   ]
  },
  {
   "cell_type": "code",
   "execution_count": 10,
   "metadata": {},
   "outputs": [
    {
     "data": {
      "text/plain": [
       "0.25"
      ]
     },
     "execution_count": 10,
     "metadata": {},
     "output_type": "execute_result"
    }
   ],
   "source": [
    "math.log(15)*math.log(17)/(math.log(225)*math.log(289))\n"
   ]
  },
  {
   "cell_type": "code",
   "execution_count": 11,
   "metadata": {},
   "outputs": [
    {
     "name": "stdout",
     "output_type": "stream",
     "text": [
      "1.0\n",
      "3.0\n",
      "-3.0\n",
      "-1.0\n"
     ]
    }
   ],
   "source": [
    "def f(x,y):\n",
    "    return pow(x,3)+4*pow(y,3)-3*x-3*y\n",
    "print(f(-1,0.5))\n",
    "print(f(-1,-0.5))\n",
    "print(f(1,0.5))\n",
    "print(f(1,-0.5))"
   ]
  },
  {
   "cell_type": "code",
   "execution_count": 12,
   "metadata": {},
   "outputs": [
    {
     "data": {
      "text/plain": [
       "array([[ 6, 12, 18],\n",
       "       [30, 36, 42],\n",
       "       [54, 60, 66],\n",
       "       [24, 48, 72]])"
      ]
     },
     "execution_count": 12,
     "metadata": {},
     "output_type": "execute_result"
    }
   ],
   "source": [
    "A = np.array([[1,0,0,0],\n",
    "              [0,1,0,0],\n",
    "              [0,0,1,0],\n",
    "              [0,0,0,1]])\n",
    "B = np.array([[1,2,3],\n",
    "              [5,6,7],\n",
    "              [9,10,11],\n",
    "              [4,8,12]])\n",
    "C = np.array([[3,0,0],\n",
    "              [0,3,0],\n",
    "              [0,0,3]])\n",
    "A = A * 2\n",
    "D = np.dot(A,B)\n",
    "np.dot(D,C)"
   ]
  },
  {
   "cell_type": "code",
   "execution_count": 13,
   "metadata": {},
   "outputs": [
    {
     "name": "stdout",
     "output_type": "stream",
     "text": [
      "[[ 52]\n",
      " [144]\n",
      " [236]\n",
      " [208]]\n",
      "[[ 52]\n",
      " [144]\n",
      " [236]\n",
      " [208]]\n"
     ]
    }
   ],
   "source": [
    "A = np.array([[1,2,3],\n",
    "              [5,6,7],\n",
    "              [9,10,11],\n",
    "              [4,8,12]])\n",
    "B = np.array([[1],\n",
    "              [5],\n",
    "              [9]])\n",
    "D = np.array([[3],\n",
    "              [4],\n",
    "              [1]])\n",
    "C = np.array([1,2,3,4,5,6])\n",
    "E1 = np.dot(A,B+D)\n",
    "E2 = np.dot(A,B) + np.dot(A,D)\n",
    "print(E1)\n",
    "print(E2)"
   ]
  },
  {
   "cell_type": "code",
   "execution_count": 14,
   "metadata": {},
   "outputs": [
    {
     "name": "stdout",
     "output_type": "stream",
     "text": [
      "[[2 1 0 0]\n",
      " [0 2 1 0]\n",
      " [0 0 2 1]]\n"
     ]
    }
   ],
   "source": [
    "import numpy as np\n",
    "mat = np.array([[2,1,0,0],[0,2,1,0],[0,0,2,1]])\n",
    "print(mat)"
   ]
  },
  {
   "cell_type": "code",
   "execution_count": 15,
   "metadata": {},
   "outputs": [
    {
     "data": {
      "text/plain": [
       "12"
      ]
     },
     "execution_count": 15,
     "metadata": {},
     "output_type": "execute_result"
    }
   ],
   "source": [
    "mat.shape[0]*mat.shape[1]"
   ]
  },
  {
   "cell_type": "code",
   "execution_count": 16,
   "metadata": {},
   "outputs": [
    {
     "data": {
      "text/plain": [
       "array([[2],\n",
       "       [1],\n",
       "       [0],\n",
       "       [0],\n",
       "       [0],\n",
       "       [2],\n",
       "       [1],\n",
       "       [0],\n",
       "       [0],\n",
       "       [0],\n",
       "       [2],\n",
       "       [1]])"
      ]
     },
     "execution_count": 16,
     "metadata": {},
     "output_type": "execute_result"
    }
   ],
   "source": [
    "mat.reshape(-1,1)"
   ]
  },
  {
   "cell_type": "code",
   "execution_count": 17,
   "metadata": {},
   "outputs": [
    {
     "name": "stdout",
     "output_type": "stream",
     "text": [
      "6.0\n",
      "7.0\n"
     ]
    }
   ],
   "source": [
    "arr = ((0, -0.5), (1, 0), (0, 0.5), (0, 1.5), (1, 2.5), (2,3))\n",
    "\n",
    "def sqerr(a, b):\n",
    "  return (a - b)**2\n",
    "\n",
    "def abserr(a, b):\n",
    "  return abs(a - b)\n",
    "\n",
    "def errsum(err_fun):\n",
    "  return sum(list(map(lambda pair: err_fun(pair[0], pair[1]), arr)))\n",
    "\n",
    "print(errsum(abserr))\n",
    "print(errsum(sqerr))"
   ]
  },
  {
   "cell_type": "code",
   "execution_count": 19,
   "metadata": {},
   "outputs": [
    {
     "name": "stdout",
     "output_type": "stream",
     "text": [
      "[60 50 75]\n",
      "[10  7 12]\n",
      "[ 0.19473684 -2.34210526]\n"
     ]
    }
   ],
   "source": [
    "arr = np.array([[10,60], [7,50], [12,75]])\n",
    "arrX = arr[:,1]\n",
    "print(arrX)\n",
    "arrY = arr[:,0]\n",
    "print(arrY)\n",
    "fp1, residuals, rank, sv, rcond = np.polyfit(arrX, arrY, 1, full=True)\n",
    "\n",
    "print(fp1)"
   ]
  },
  {
   "cell_type": "code",
   "execution_count": 25,
   "metadata": {},
   "outputs": [
    {
     "name": "stdout",
     "output_type": "stream",
     "text": [
      "[[    3   185]\n",
      " [  185 11725]]\n"
     ]
    }
   ],
   "source": [
    "X = np.array([[1,60],[1,50],[1,75]])\n",
    "y = np.array([[10],[7],[12]])\n",
    "step1 = X.T.dot(X)\n",
    "print(step1)\n",
    "#step2 = linalg.inv(step1)\n",
    "#step3 = step2.dot(X.T)\n",
    "#b = step3.dot(y)"
   ]
  }
 ],
 "metadata": {
  "kernelspec": {
   "display_name": "Python 3",
   "language": "python",
   "name": "python3"
  },
  "language_info": {
   "codemirror_mode": {
    "name": "ipython",
    "version": 3
   },
   "file_extension": ".py",
   "mimetype": "text/x-python",
   "name": "python",
   "nbconvert_exporter": "python",
   "pygments_lexer": "ipython3",
   "version": "3.10.7"
  },
  "orig_nbformat": 4
 },
 "nbformat": 4,
 "nbformat_minor": 2
}
