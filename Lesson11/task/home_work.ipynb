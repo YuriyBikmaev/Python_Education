{
 "cells": [
  {
   "cell_type": "markdown",
   "metadata": {},
   "source": [
    "### Задание \n",
    "f(x) = -12x^4 - 18x^3+5x^2 + 10x\n",
    "\n",
    "1. Определить корни\n",
    "2. Найти интервалы, на которых функция возрастает\n",
    "3. Найти интервалы, на которых функция убывает\n",
    "4. Построить график\n",
    "5. Вычислить вершину\n",
    "6. Определить промежутки, на котором f > 0\n",
    "7. Определить промежутки, на котором f < 0"
   ]
  },
  {
   "cell_type": "markdown",
   "metadata": {},
   "source": [
    "### Решение задачи"
   ]
  },
  {
   "cell_type": "markdown",
   "metadata": {},
   "source": [
    "1. Определить корни"
   ]
  },
  {
   "cell_type": "code",
   "execution_count": 14,
   "metadata": {},
   "outputs": [
    {
     "name": "stdout",
     "output_type": "stream",
     "text": [
      "Корни:\n",
      "[0, -1/2 + (-1/2 - sqrt(3)*I/2)*(3/16 + sqrt(4415)*I/432)**(1/3) + 7/(18*(-1/2 - sqrt(3)*I/2)*(3/16 + sqrt(4415)*I/432)**(1/3)), -1/2 + 7/(18*(-1/2 + sqrt(3)*I/2)*(3/16 + sqrt(4415)*I/432)**(1/3)) + (-1/2 + sqrt(3)*I/2)*(3/16 + sqrt(4415)*I/432)**(1/3), -1/2 + 7/(18*(3/16 + sqrt(4415)*I/432)**(1/3)) + (3/16 + sqrt(4415)*I/432)**(1/3)]\n",
      "\n",
      "Корни (рассчитанные значения):\n",
      "[0, -0.8621352422032016, -1.352523311730382, 0.7146585539335835]\n"
     ]
    }
   ],
   "source": [
    "from sympy import solve, Eq, Symbol\n",
    "from math import sqrt \n",
    "\n",
    "I = 1j\n",
    "\n",
    "def calc_real_values(data_list):\n",
    "    result = []\n",
    "    for el in data_list:\n",
    "        result.append(eval(str(el)).real)\n",
    "    return result\n",
    "\n",
    "\n",
    "x = Symbol(\"x\")\n",
    "f = -12*(x**4) - 18*(x**3) + 5*(x**2) + 10*x\n",
    "result_roots = solve(Eq(f, 0), x)\n",
    "result_roots_real = calc_real_values(result_roots)\n",
    "print(f\"Корни:\\n{result_roots}\")\n",
    "print(f\"\\nКорни (рассчитанные значения):\\n{result_roots_real}\")\n"
   ]
  },
  {
   "cell_type": "markdown",
   "metadata": {},
   "source": [
    "2. Найти интервалы, на которых функция возрастает\n"
   ]
  },
  {
   "cell_type": "code",
   "execution_count": 15,
   "metadata": {},
   "outputs": [
    {
     "data": {
      "text/latex": [
       "$\\displaystyle \\left(-\\infty < x \\wedge x < \\operatorname{CRootOf} {\\left(24 x^{3} + 27 x^{2} - 5 x - 5, 0\\right)}\\right) \\vee \\left(x < \\operatorname{CRootOf} {\\left(24 x^{3} + 27 x^{2} - 5 x - 5, 2\\right)} \\wedge \\operatorname{CRootOf} {\\left(24 x^{3} + 27 x^{2} - 5 x - 5, 1\\right)} < x\\right)$"
      ],
      "text/plain": [
       "((-oo < x) & (x < CRootOf(24*x**3 + 27*x**2 - 5*x - 5, 0))) | ((x < CRootOf(24*x**3 + 27*x**2 - 5*x - 5, 2)) & (CRootOf(24*x**3 + 27*x**2 - 5*x - 5, 1) < x))"
      ]
     },
     "execution_count": 15,
     "metadata": {},
     "output_type": "execute_result"
    }
   ],
   "source": [
    "df = f.diff(x)\n",
    "solve(df > 0)\n"
   ]
  },
  {
   "cell_type": "markdown",
   "metadata": {},
   "source": [
    "3. Найти интервалы, на которых функция убывает"
   ]
  },
  {
   "cell_type": "code",
   "execution_count": 16,
   "metadata": {},
   "outputs": [
    {
     "data": {
      "text/latex": [
       "$\\displaystyle \\left(x < \\infty \\wedge \\operatorname{CRootOf} {\\left(24 x^{3} + 27 x^{2} - 5 x - 5, 2\\right)} < x\\right) \\vee \\left(x < \\operatorname{CRootOf} {\\left(24 x^{3} + 27 x^{2} - 5 x - 5, 1\\right)} \\wedge \\operatorname{CRootOf} {\\left(24 x^{3} + 27 x^{2} - 5 x - 5, 0\\right)} < x\\right)$"
      ],
      "text/plain": [
       "((x < oo) & (CRootOf(24*x**3 + 27*x**2 - 5*x - 5, 2) < x)) | ((x < CRootOf(24*x**3 + 27*x**2 - 5*x - 5, 1)) & (CRootOf(24*x**3 + 27*x**2 - 5*x - 5, 0) < x))"
      ]
     },
     "execution_count": 16,
     "metadata": {},
     "output_type": "execute_result"
    }
   ],
   "source": [
    "solve(df < 0)\n"
   ]
  },
  {
   "cell_type": "markdown",
   "metadata": {},
   "source": [
    "4. Построить график"
   ]
  },
  {
   "cell_type": "code",
   "execution_count": 35,
   "metadata": {},
   "outputs": [
    {
     "data": {
      "text/plain": [
       "[<matplotlib.lines.Line2D at 0x7321e30880>]"
      ]
     },
     "execution_count": 35,
     "metadata": {},
     "output_type": "execute_result"
    },
    {
     "data": {
      "image/png": "[encoded data removed]",
      "text/plain": [
       "<Figure size 640x480 with 1 Axes>"
      ]
     },
     "metadata": {},
     "output_type": "display_data"
    }
   ],
   "source": [
    "import numpy as np\n",
    "import matplotlib.pyplot as plt\n",
    "\n",
    "def fx(x):\n",
    "    return eval(str(f))\n",
    "\n",
    "# Setting axis at the center\n",
    "fig = plt.figure()\n",
    "ax = fig.add_subplot(1, 1, 1)\n",
    "\n",
    "# Move left y-axis and bottim x-axis to centre, passing through (0,0)\n",
    "ax.spines['left'].set_position('center')\n",
    "ax.spines['bottom'].set_position('zero')\n",
    "\n",
    "# Eliminate upper and right axes\n",
    "ax.spines['right'].set_color('none')\n",
    "ax.spines['top'].set_color('none')\n",
    "\n",
    "# Show ticks in the left and lower axes only\n",
    "ax.xaxis.set_ticks_position('bottom')\n",
    "ax.yaxis.set_ticks_position('left')\n",
    "\n",
    "plt.xlim(-2,2)\n",
    "plt.ylim(-13,4)\n",
    "\n",
    "x_list = np.linspace(-2, 1, 50)\n",
    "y = [fx(n) for n in x_list]\n",
    "\n",
    "plt.plot(x_list, y)"
   ]
  },
  {
   "cell_type": "markdown",
   "metadata": {},
   "source": [
    "5. Вычислить вершину"
   ]
  },
  {
   "cell_type": "code",
   "execution_count": 18,
   "metadata": {},
   "outputs": [
    {
     "name": "stdout",
     "output_type": "stream",
     "text": [
      "Точки абсцисы:\n",
      "[-3/8 + (-1/2 - sqrt(3)*I/2)*(19/1536 + sqrt(108895)*I/3456)**(1/3) + 121/(576*(-1/2 - sqrt(3)*I/2)*(19/1536 + sqrt(108895)*I/3456)**(1/3)), -3/8 + 121/(576*(-1/2 + sqrt(3)*I/2)*(19/1536 + sqrt(108895)*I/3456)**(1/3)) + (-1/2 + sqrt(3)*I/2)*(19/1536 + sqrt(108895)*I/3456)**(1/3), -3/8 + 121/(576*(19/1536 + sqrt(108895)*I/3456)**(1/3)) + (19/1536 + sqrt(108895)*I/3456)**(1/3)]\n",
      "\n",
      "Точки абсцисы (рассчитанные значения):\n",
      "[-0.4143529027337698, -1.1484482835381318, 0.4378011862719017]\n",
      "\n",
      "Точки ординаты:\n",
      "[-15/4 + 10*(-1/2 - sqrt(3)*I/2)*(19/1536 + sqrt(108895)*I/3456)**(1/3) - 18*(-3/8 + (-1/2 - sqrt(3)*I/2)*(19/1536 + sqrt(108895)*I/3456)**(1/3) + 121/(576*(-1/2 - sqrt(3)*I/2)*(19/1536 + sqrt(108895)*I/3456)**(1/3)))**3 + 5*(-3/8 + (-1/2 - sqrt(3)*I/2)*(19/1536 + sqrt(108895)*I/3456)**(1/3) + 121/(576*(-1/2 - sqrt(3)*I/2)*(19/1536 + sqrt(108895)*I/3456)**(1/3)))**2 - 12*(-3/8 + (-1/2 - sqrt(3)*I/2)*(19/1536 + sqrt(108895)*I/3456)**(1/3) + 121/(576*(-1/2 - sqrt(3)*I/2)*(19/1536 + sqrt(108895)*I/3456)**(1/3)))**4 + 605/(288*(-1/2 - sqrt(3)*I/2)*(19/1536 + sqrt(108895)*I/3456)**(1/3)), -15/4 + 605/(288*(-1/2 + sqrt(3)*I/2)*(19/1536 + sqrt(108895)*I/3456)**(1/3)) - 18*(-3/8 + 121/(576*(-1/2 + sqrt(3)*I/2)*(19/1536 + sqrt(108895)*I/3456)**(1/3)) + (-1/2 + sqrt(3)*I/2)*(19/1536 + sqrt(108895)*I/3456)**(1/3))**3 + 5*(-3/8 + 121/(576*(-1/2 + sqrt(3)*I/2)*(19/1536 + sqrt(108895)*I/3456)**(1/3)) + (-1/2 + sqrt(3)*I/2)*(19/1536 + sqrt(108895)*I/3456)**(1/3))**2 - 12*(-3/8 + 121/(576*(-1/2 + sqrt(3)*I/2)*(19/1536 + sqrt(108895)*I/3456)**(1/3)) + (-1/2 + sqrt(3)*I/2)*(19/1536 + sqrt(108895)*I/3456)**(1/3))**4 + 10*(-1/2 + sqrt(3)*I/2)*(19/1536 + sqrt(108895)*I/3456)**(1/3), -15/4 + 605/(288*(19/1536 + sqrt(108895)*I/3456)**(1/3)) + 5*(-3/8 + 121/(576*(19/1536 + sqrt(108895)*I/3456)**(1/3)) + (19/1536 + sqrt(108895)*I/3456)**(1/3))**2 - 12*(-3/8 + 121/(576*(19/1536 + sqrt(108895)*I/3456)**(1/3)) + (19/1536 + sqrt(108895)*I/3456)**(1/3))**4 - 18*(-3/8 + 121/(576*(19/1536 + sqrt(108895)*I/3456)**(1/3)) + (19/1536 + sqrt(108895)*I/3456)**(1/3))**3 + 10*(19/1536 + sqrt(108895)*I/3456)**(1/3)]\n",
      "\n",
      "Точки ординаты (рассчитанные значения):\n",
      "[-2.358297943660864, 1.5002424302412272, 3.385073742586305]\n"
     ]
    }
   ],
   "source": [
    "x_extr = solve(df,x)\n",
    "print(f\"Точки абсцисы:\\n{x_extr}\")\n",
    "x_extr_real = calc_real_values(x_extr)\n",
    "print(f\"\\nТочки абсцисы (рассчитанные значения):\\n{x_extr_real}\")\n",
    "\n",
    "y_extr = [fx(n) for n in x_extr]\n",
    "print(f\"\\nТочки ординаты:\\n{y_extr}\")\n",
    "y_extr_real = calc_real_values(y_extr)\n",
    "print(f\"\\nТочки ординаты (рассчитанные значения):\\n{y_extr_real}\")\n",
    "\n"
   ]
  },
  {
   "cell_type": "markdown",
   "metadata": {},
   "source": [
    "6. Определить промежутки, на котором f > 0"
   ]
  },
  {
   "cell_type": "code",
   "execution_count": 19,
   "metadata": {},
   "outputs": [
    {
     "data": {
      "text/latex": [
       "$\\displaystyle \\left(0 < x \\wedge x < \\operatorname{CRootOf} {\\left(12 x^{3} + 18 x^{2} - 5 x - 10, 2\\right)}\\right) \\vee \\left(x < \\operatorname{CRootOf} {\\left(12 x^{3} + 18 x^{2} - 5 x - 10, 1\\right)} \\wedge \\operatorname{CRootOf} {\\left(12 x^{3} + 18 x^{2} - 5 x - 10, 0\\right)} < x\\right)$"
      ],
      "text/plain": [
       "((0 < x) & (x < CRootOf(12*x**3 + 18*x**2 - 5*x - 10, 2))) | ((x < CRootOf(12*x**3 + 18*x**2 - 5*x - 10, 1)) & (CRootOf(12*x**3 + 18*x**2 - 5*x - 10, 0) < x))"
      ]
     },
     "execution_count": 19,
     "metadata": {},
     "output_type": "execute_result"
    }
   ],
   "source": [
    "solve(f>0)"
   ]
  },
  {
   "cell_type": "markdown",
   "metadata": {},
   "source": [
    "7. Определить промежутки, на котором f < 0"
   ]
  },
  {
   "cell_type": "code",
   "execution_count": 20,
   "metadata": {},
   "outputs": [
    {
     "data": {
      "text/latex": [
       "$\\displaystyle \\left(-\\infty < x \\wedge x < \\operatorname{CRootOf} {\\left(12 x^{3} + 18 x^{2} - 5 x - 10, 0\\right)}\\right) \\vee \\left(x < 0 \\wedge \\operatorname{CRootOf} {\\left(12 x^{3} + 18 x^{2} - 5 x - 10, 1\\right)} < x\\right) \\vee \\left(x < \\infty \\wedge \\operatorname{CRootOf} {\\left(12 x^{3} + 18 x^{2} - 5 x - 10, 2\\right)} < x\\right)$"
      ],
      "text/plain": [
       "((-oo < x) & (x < CRootOf(12*x**3 + 18*x**2 - 5*x - 10, 0))) | ((x < 0) & (CRootOf(12*x**3 + 18*x**2 - 5*x - 10, 1) < x)) | ((x < oo) & (CRootOf(12*x**3 + 18*x**2 - 5*x - 10, 2) < x))"
      ]
     },
     "execution_count": 20,
     "metadata": {},
     "output_type": "execute_result"
    }
   ],
   "source": [
    "solve(f<0)"
   ]
  }
 ],
 "metadata": {
  "kernelspec": {
   "display_name": "Python 3 (ipykernel)",
   "language": "python",
   "name": "python3"
  },
  "language_info": {
   "codemirror_mode": {
    "name": "ipython",
    "version": 3
   },
   "file_extension": ".py",
   "mimetype": "text/x-python",
   "name": "python",
   "nbconvert_exporter": "python",
   "pygments_lexer": "ipython3",
   "version": "3.10.7 (tags/v3.10.7:6cc6b13, Sep  5 2022, 14:08:36) [MSC v.1933 64 bit (AMD64)]"
  },
  "vscode": {
   "interpreter": {
    "hash": "b50799a4c6988edb4d727a3ea1b5538be48e60404bee073e4893a0e66dc1915b"
   }
  }
 },
 "nbformat": 4,
 "nbformat_minor": 2
}
